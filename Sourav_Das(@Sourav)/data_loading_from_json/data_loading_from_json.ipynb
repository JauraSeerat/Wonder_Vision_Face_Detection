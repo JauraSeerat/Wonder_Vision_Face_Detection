{
  "nbformat": 4,
  "nbformat_minor": 0,
  "metadata": {
    "colab": {
      "name": "Getting images with requests.ipynb",
      "version": "0.3.2",
      "provenance": [],
      "collapsed_sections": []
    },
    "kernelspec": {
      "name": "python3",
      "display_name": "Python 3"
    }
  },
  "cells": [
    {
      "cell_type": "code",
      "metadata": {
        "id": "GFRX3gncvj7O",
        "colab_type": "code",
        "outputId": "e503c16b-3254-4253-fa7f-b4a9c2550b85",
        "colab": {
          "base_uri": "https://localhost:8080/",
          "height": 122
        }
      },
      "source": [
        "from google.colab import drive\n",
        "drive.mount('/content/drive')"
      ],
      "execution_count": 0,
      "outputs": [
        {
          "output_type": "stream",
          "text": [
            "Go to this URL in a browser: https://accounts.google.com/o/oauth2/auth?client_id=947318989803-6bn6qk8qdgf4n4g3pfee6491hc0brc4i.apps.googleusercontent.com&redirect_uri=urn%3Aietf%3Awg%3Aoauth%3A2.0%3Aoob&scope=email%20https%3A%2F%2Fwww.googleapis.com%2Fauth%2Fdocs.test%20https%3A%2F%2Fwww.googleapis.com%2Fauth%2Fdrive%20https%3A%2F%2Fwww.googleapis.com%2Fauth%2Fdrive.photos.readonly%20https%3A%2F%2Fwww.googleapis.com%2Fauth%2Fpeopleapi.readonly&response_type=code\n",
            "\n",
            "Enter your authorization code:\n",
            "··········\n",
            "Mounted at /content/drive\n"
          ],
          "name": "stdout"
        }
      ]
    },
    {
      "cell_type": "code",
      "metadata": {
        "id": "a3WR7yUjv7WT",
        "colab_type": "code",
        "colab": {}
      },
      "source": [
        "import json\n",
        "import codecs\n",
        "import requests\n",
        "import numpy as np\n",
        "import pandas as pd \n",
        "from PIL import Image\n",
        "from tqdm import tqdm\n",
        "from io import BytesIO"
      ],
      "execution_count": 0,
      "outputs": []
    },
    {
      "cell_type": "code",
      "metadata": {
        "id": "nPC7Alwiw1aj",
        "colab_type": "code",
        "outputId": "47677883-204e-4c22-efc2-01017a66c0c7",
        "colab": {
          "base_uri": "https://localhost:8080/",
          "height": 310
        }
      },
      "source": [
        "# get links and stuff from json\n",
        "jsonData = []\n",
        "JSONPATH = \"../content/face_detection.json\"  \n",
        "with codecs.open(JSONPATH, 'rU', 'utf-8') as js:\n",
        "    for line in js:\n",
        "        jsonData.append(json.loads(line))\n",
        "\n",
        "print(f\"{len(jsonData)} image found!\")\n",
        "\n",
        "print(\"Sample row:\")\n",
        "jsonData[0]"
      ],
      "execution_count": 0,
      "outputs": [
        {
          "output_type": "stream",
          "text": [
            "409 image found!\n",
            "Sample row:\n"
          ],
          "name": "stdout"
        },
        {
          "output_type": "execute_result",
          "data": {
            "text/plain": [
              "{'annotation': [{'imageHeight': 333,\n",
              "   'imageWidth': 650,\n",
              "   'label': ['Face'],\n",
              "   'notes': '',\n",
              "   'points': [{'x': 0.08615384615384615, 'y': 0.3063063063063063},\n",
              "    {'x': 0.1723076923076923, 'y': 0.45345345345345345}]},\n",
              "  {'imageHeight': 333,\n",
              "   'imageWidth': 650,\n",
              "   'label': ['Face'],\n",
              "   'notes': '',\n",
              "   'points': [{'x': 0.583076923076923, 'y': 0.2912912912912913},\n",
              "    {'x': 0.6584615384615384, 'y': 0.46846846846846846}]}],\n",
              " 'content': 'http://com.dataturks.a96-i23.open.s3.amazonaws.com/2c9fafb064277d86016431e33e4e003d/8186c3d1-e9d4-4550-8ec1-a062a7628787___0-26.jpg.jpeg',\n",
              " 'extras': None}"
            ]
          },
          "metadata": {
            "tags": []
          },
          "execution_count": 3
        }
      ]
    },
    {
      "cell_type": "markdown",
      "metadata": {
        "id": "fs5trqHi6djE",
        "colab_type": "text"
      },
      "source": [
        ""
      ]
    },
    {
      "cell_type": "code",
      "metadata": {
        "id": "bDObnQaBxdKp",
        "colab_type": "code",
        "outputId": "0dab281a-2460-4ccd-93d7-a02bac07853a",
        "colab": {
          "base_uri": "https://localhost:8080/",
          "height": 34
        }
      },
      "source": [
        "images = []\n",
        "for data in tqdm(jsonData):\n",
        "    response = requests.get(data['content'])\n",
        "    img = np.asarray(Image.open(BytesIO(response.content)))\n",
        "    images.append([img, data[\"annotation\"]])"
      ],
      "execution_count": 0,
      "outputs": [
        {
          "output_type": "stream",
          "text": [
            "100%|██████████| 409/409 [02:40<00:00,  2.64it/s]\n"
          ],
          "name": "stderr"
        }
      ]
    }
  ]
}