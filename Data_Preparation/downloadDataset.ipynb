{
 "cells": [
  {
   "cell_type": "markdown",
   "metadata": {},
   "source": [
    "# Code to Download the data from kaggle website"
   ]
  },
  {
   "cell_type": "markdown",
   "metadata": {},
   "source": [
    "### Imports"
   ]
  },
  {
   "cell_type": "code",
   "execution_count": null,
   "metadata": {
    "pycharm": {
     "is_executing": true
    }
   },
   "outputs": [],
   "source": [
    "\"\"\"Code to download the images is from taken from the following link\n",
    "    https://www.kaggle.com/volkankalin/getting-images-with-requests\"\"\"\n",
    "\n",
    "import json\n",
    "import codecs\n",
    "import requests\n",
    "import numpy as np\n",
    "import pandas as pd\n",
    "from PIL import Image\n",
    "from tqdm import tqdm\n",
    "from io import BytesIO\n",
    "from matplotlib import pyplot as plt\n"
   ]
  },
  {
   "cell_type": "code",
   "execution_count": null,
   "metadata": {
    "collapsed": true,
    "pycharm": {
     "is_executing": true
    }
   },
   "outputs": [
    {
     "name": "stderr",
     "output_type": "stream",
     "text": [
      "\r",
      "  0%|          | 0/409 [00:00<?, ?it/s]\r",
      "  0%|          | 1/409 [00:01<07:24,  1.09s/it]\r",
      "  0%|          | 2/409 [00:03<10:10,  1.50s/it]\r",
      "  1%|          | 3/409 [00:04<08:48,  1.30s/it]\r",
      "  1%|          | 4/409 [00:06<09:58,  1.48s/it]\r",
      "  1%|          | 5/409 [00:07<09:11,  1.37s/it]\r",
      "  1%|▏         | 6/409 [00:08<08:49,  1.31s/it]\r",
      "  2%|▏         | 7/409 [00:09<08:21,  1.25s/it]\r",
      "  2%|▏         | 8/409 [00:10<08:02,  1.20s/it]\r",
      "  2%|▏         | 9/409 [00:11<07:51,  1.18s/it]\r",
      "  2%|▏         | 10/409 [00:12<06:44,  1.01s/it]\r",
      "  3%|▎         | 11/409 [00:13<06:25,  1.03it/s]\r",
      "  3%|▎         | 12/409 [00:14<06:47,  1.03s/it]\r",
      "  3%|▎         | 13/409 [00:17<10:46,  1.63s/it]\r",
      "  3%|▎         | 14/409 [00:19<10:19,  1.57s/it]\r",
      "  4%|▎         | 15/409 [00:20<10:11,  1.55s/it]\r",
      "  4%|▍         | 16/409 [00:21<09:19,  1.42s/it]"
     ]
    },
    {
     "name": "stdout",
     "output_type": "stream",
     "text": [
      "409 image found!\n",
      "Sample row:\n",
      "{'content': 'http://com.dataturks.a96-i23.open.s3.amazonaws.com/2c9fafb064277d86016431e33e4e003d/8186c3d1-e9d4-4550-8ec1-a062a7628787___0-26.jpg.jpeg', 'annotation': [{'label': ['Face'], 'notes': '', 'points': [{'x': 0.08615384615384615, 'y': 0.3063063063063063}, {'x': 0.1723076923076923, 'y': 0.45345345345345345}], 'imageWidth': 650, 'imageHeight': 333}, {'label': ['Face'], 'notes': '', 'points': [{'x': 0.583076923076923, 'y': 0.2912912912912913}, {'x': 0.6584615384615384, 'y': 0.46846846846846846}], 'imageWidth': 650, 'imageHeight': 333}], 'extras': None}\n"
     ]
    }
   ],
   "source": [
    "\n",
    "# get links and stuff from json\n",
    "jsonData = []\n",
    "JSONPATH = \"face_detection.json\"\n",
    "with codecs.open(JSONPATH, 'rU', 'utf-8') as js:\n",
    "    for line in js:\n",
    "        jsonData.append(json.loads(line))\n",
    "\n",
    "print(f\"{len(jsonData)} image found!\")\n",
    "\n",
    "print(\"Sample row:\")\n",
    "print(jsonData[0])\n",
    "\n",
    "images = []\n",
    "for data in tqdm(jsonData):\n",
    "    response = requests.get(data['content'])\n",
    "    try:\n",
    "        img = np.asarray(Image.open(BytesIO(response.content)))\n",
    "        images.append([img, data[\"annotation\"]])\n",
    "\n",
    "    except:\n",
    "        print(\"Some error: {}\".format(data))\n",
    "\n",
    "# np.save('images.npy', images)"
   ]
  },
  {
   "cell_type": "code",
   "execution_count": null,
   "metadata": {},
   "outputs": [],
   "source": []
  }
 ],
 "metadata": {
  "kernelspec": {
   "display_name": "Python 3",
   "language": "python",
   "name": "python3"
  },
  "language_info": {
   "codemirror_mode": {
    "name": "ipython",
    "version": 3
   },
   "file_extension": ".py",
   "mimetype": "text/x-python",
   "name": "python",
   "nbconvert_exporter": "python",
   "pygments_lexer": "ipython3",
   "version": "3.6.5"
  },
  "pycharm": {
   "stem_cell": {
    "cell_type": "raw",
    "metadata": {
     "collapsed": false
    },
    "source": []
   }
  }
 },
 "nbformat": 4,
 "nbformat_minor": 1
}
